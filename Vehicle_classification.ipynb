{
 "cells": [
  {
   "cell_type": "code",
   "execution_count": 1,
   "metadata": {},
   "outputs": [],
   "source": [
    "import numpy as np\n",
    "import matplotlib.pyplot as plt\n",
    "import os\n",
    "import cv2\n"
   ]
  },
  {
   "cell_type": "code",
   "execution_count": 2,
   "metadata": {},
   "outputs": [],
   "source": [
    "DATA_DIR = \"/Users/krishrana/Python/Dataset\" #path to the dataset your \n",
    "\n",
    "CATEGORIES = [\"Car\", \"Auto\", \"Motorcycle\"] #categories of vehicles\n",
    "\n",
    "img_size=70\n",
    "\n",
    "training_data = []\n",
    "def create_training_data():\n",
    "\t#iterating through different categories\n",
    "\tfor category in CATEGORIES:\n",
    "\t\tpath = os.path.join(DATA_DIR,category) #creating the path to the images\n",
    "\t\tprint(path)\n",
    "\t\tclass_num = CATEGORIES.index(category) #creating classification label for the dataset (indexing the categories)\n",
    "\t\tprint(class_num) \n",
    "\t\tfor img in os.listdir(path): #loading each image in the directory\n",
    "\t\t\ttry:\n",
    "\t\t\t\timg_array = cv2.imread(os.path.join(path,img) ,cv2.IMREAD_GRAYSCALE)\n",
    "\t\t\t\tnew_array = cv2.resize(img_array,(img_size,img_size)) #resizeing the all the images to same size(70,70)\n",
    "\t\t\t\ttraining_data.append([new_array,class_num])\n",
    "\t\t\texcept Exception as e:\n",
    "\t\t\t\tpass\n"
   ]
  },
  {
   "cell_type": "code",
   "execution_count": 3,
   "metadata": {},
   "outputs": [
    {
     "name": "stdout",
     "output_type": "stream",
     "text": [
      "/Users/krishrana/Python/Dataset/Car\n",
      "0\n",
      "/Users/krishrana/Python/Dataset/Auto\n",
      "1\n",
      "/Users/krishrana/Python/Dataset/Motorcycle\n",
      "2\n",
      "1326\n"
     ]
    }
   ],
   "source": [
    "create_training_data()\n",
    "print(len(training_data))"
   ]
  },
  {
   "cell_type": "code",
   "execution_count": 4,
   "metadata": {},
   "outputs": [],
   "source": [
    "import random\n",
    "random.shuffle(training_data) #randomizing the data"
   ]
  },
  {
   "cell_type": "code",
   "execution_count": 5,
   "metadata": {},
   "outputs": [
    {
     "name": "stdout",
     "output_type": "stream",
     "text": [
      "(1326, 70, 70, 1)\n",
      "1326\n"
     ]
    }
   ],
   "source": [
    "X=[]\n",
    "y=[]\n",
    "\n",
    "for features,label in training_data: #new_array is features and class_num is label\n",
    "\tX.append(features)\n",
    "\ty.append(label)\n",
    "\n",
    "\n",
    "X=np.array(X).reshape(-1,img_size,img_size,1) #transforming X into numpy array\n",
    "print(X.shape)\n",
    "print(len(y))"
   ]
  },
  {
   "cell_type": "code",
   "execution_count": 6,
   "metadata": {},
   "outputs": [
    {
     "name": "stderr",
     "output_type": "stream",
     "text": [
      "Using TensorFlow backend.\n"
     ]
    }
   ],
   "source": [
    "import tensorflow as tf\n",
    "from tensorflow.keras.models import Sequential\n",
    "from tensorflow.keras.layers import Dense, Dropout, Activation, Flatten\n",
    "from tensorflow.keras.layers import Conv2D, MaxPooling2D\n",
    "from tensorflow.keras.utils import to_categorical\n",
    "from keras import optimizers"
   ]
  },
  {
   "cell_type": "code",
   "execution_count": 7,
   "metadata": {},
   "outputs": [
    {
     "name": "stderr",
     "output_type": "stream",
     "text": [
      "WARNING: Logging before flag parsing goes to stderr.\n",
      "W0107 19:29:30.952189 4670182848 deprecation.py:506] From /Library/Frameworks/Python.framework/Versions/3.7/lib/python3.7/site-packages/tensorflow/python/ops/init_ops.py:1251: calling VarianceScaling.__init__ (from tensorflow.python.ops.init_ops) with dtype is deprecated and will be removed in a future version.\n",
      "Instructions for updating:\n",
      "Call initializer instance with the dtype argument instead of passing it to the constructor\n"
     ]
    },
    {
     "name": "stdout",
     "output_type": "stream",
     "text": [
      "Model: \"sequential\"\n",
      "_________________________________________________________________\n",
      "Layer (type)                 Output Shape              Param #   \n",
      "=================================================================\n",
      "conv2d (Conv2D)              (None, 68, 68, 32)        320       \n",
      "_________________________________________________________________\n",
      "activation (Activation)      (None, 68, 68, 32)        0         \n",
      "_________________________________________________________________\n",
      "conv2d_1 (Conv2D)            (None, 66, 66, 32)        9248      \n",
      "_________________________________________________________________\n",
      "activation_1 (Activation)    (None, 66, 66, 32)        0         \n",
      "_________________________________________________________________\n",
      "max_pooling2d (MaxPooling2D) (None, 33, 33, 32)        0         \n",
      "_________________________________________________________________\n",
      "conv2d_2 (Conv2D)            (None, 31, 31, 64)        18496     \n",
      "_________________________________________________________________\n",
      "activation_2 (Activation)    (None, 31, 31, 64)        0         \n",
      "_________________________________________________________________\n",
      "max_pooling2d_1 (MaxPooling2 (None, 15, 15, 64)        0         \n",
      "_________________________________________________________________\n",
      "conv2d_3 (Conv2D)            (None, 13, 13, 128)       73856     \n",
      "_________________________________________________________________\n",
      "activation_3 (Activation)    (None, 13, 13, 128)       0         \n",
      "_________________________________________________________________\n",
      "max_pooling2d_2 (MaxPooling2 (None, 6, 6, 128)         0         \n",
      "_________________________________________________________________\n",
      "flatten (Flatten)            (None, 4608)              0         \n",
      "_________________________________________________________________\n",
      "dense (Dense)                (None, 300)               1382700   \n",
      "_________________________________________________________________\n",
      "activation_4 (Activation)    (None, 300)               0         \n",
      "_________________________________________________________________\n",
      "dropout (Dropout)            (None, 300)               0         \n",
      "_________________________________________________________________\n",
      "dense_1 (Dense)              (None, 100)               30100     \n",
      "_________________________________________________________________\n",
      "activation_5 (Activation)    (None, 100)               0         \n",
      "_________________________________________________________________\n",
      "dropout_1 (Dropout)          (None, 100)               0         \n",
      "_________________________________________________________________\n",
      "dense_2 (Dense)              (None, 3)                 303       \n",
      "_________________________________________________________________\n",
      "activation_6 (Activation)    (None, 3)                 0         \n",
      "=================================================================\n",
      "Total params: 1,515,023\n",
      "Trainable params: 1,515,023\n",
      "Non-trainable params: 0\n",
      "_________________________________________________________________\n"
     ]
    }
   ],
   "source": [
    "X=X/255.0\n",
    "model=Sequential()\n",
    "model.add(Conv2D(32,(3,3), input_shape=X.shape[1:]))\n",
    "model.add(Activation('relu'))\n",
    "model.add(Conv2D(32,(3,3)))\n",
    "model.add(Activation('relu'))\n",
    "model.add(MaxPooling2D(2,2))\n",
    "\n",
    "\n",
    "model.add(Conv2D(64,(3,3)))\n",
    "model.add(Activation('relu'))\n",
    "model.add(MaxPooling2D(2,2))\n",
    "\n",
    "\n",
    "\n",
    "model.add(Conv2D(128,(3,3)))\n",
    "model.add(Activation('relu'))\n",
    "model.add(MaxPooling2D(2,2))\n",
    "\n",
    "\n",
    "\n",
    "\n",
    "model.add(Flatten())  #makes it 1d array\n",
    "model.add(Dense(300))\n",
    "model.add(Activation('relu'))\n",
    "model.add(Dropout(0.25))\n",
    "\n",
    "model.add(Dense(100))\n",
    "model.add(Activation('relu'))\n",
    "model.add(Dropout(0.25))\n",
    "\n",
    "model.add(Dense(3))\n",
    "model.add(Activation('softmax'))\n",
    "\n",
    "model.summary()"
   ]
  },
  {
   "cell_type": "code",
   "execution_count": 8,
   "metadata": {},
   "outputs": [],
   "source": [
    "adam=optimizers.Adam(lr=0.01)\n",
    "batch_size=16\n",
    "epochs=15"
   ]
  },
  {
   "cell_type": "code",
   "execution_count": 9,
   "metadata": {},
   "outputs": [
    {
     "name": "stdout",
     "output_type": "stream",
     "text": [
      "[[1. 0. 0.]\n",
      " [0. 0. 1.]\n",
      " [1. 0. 0.]\n",
      " [0. 0. 1.]\n",
      " [1. 0. 0.]]\n"
     ]
    }
   ],
   "source": [
    "model.compile(loss='categorical_crossentropy', optimizer='adam', metrics=['accuracy'])\n",
    "target = to_categorical(y, num_classes=3)\n",
    "print(target[:5, :])"
   ]
  },
  {
   "cell_type": "code",
   "execution_count": 10,
   "metadata": {},
   "outputs": [
    {
     "name": "stdout",
     "output_type": "stream",
     "text": [
      "Train on 1060 samples, validate on 266 samples\n",
      "Epoch 1/15\n",
      "1060/1060 [==============================] - 9s 8ms/sample - loss: 0.9015 - acc: 0.5170 - val_loss: 0.7559 - val_acc: 0.7143\n",
      "Epoch 2/15\n",
      "1060/1060 [==============================] - 7s 7ms/sample - loss: 0.6366 - acc: 0.6849 - val_loss: 0.5704 - val_acc: 0.7180\n",
      "Epoch 3/15\n",
      "1060/1060 [==============================] - 7s 7ms/sample - loss: 0.5873 - acc: 0.7151 - val_loss: 0.5698 - val_acc: 0.6917\n",
      "Epoch 4/15\n",
      "1060/1060 [==============================] - 7s 7ms/sample - loss: 0.4755 - acc: 0.7821 - val_loss: 0.4920 - val_acc: 0.7744\n",
      "Epoch 5/15\n",
      "1060/1060 [==============================] - 7s 7ms/sample - loss: 0.3247 - acc: 0.8774 - val_loss: 0.2982 - val_acc: 0.8797\n",
      "Epoch 6/15\n",
      "1060/1060 [==============================] - 8s 7ms/sample - loss: 0.2365 - acc: 0.9142 - val_loss: 0.2727 - val_acc: 0.8947\n",
      "Epoch 7/15\n",
      "1060/1060 [==============================] - 8s 7ms/sample - loss: 0.1734 - acc: 0.9349 - val_loss: 0.3806 - val_acc: 0.8571\n",
      "Epoch 8/15\n",
      "1060/1060 [==============================] - 7s 7ms/sample - loss: 0.1208 - acc: 0.9557 - val_loss: 0.2075 - val_acc: 0.9248\n",
      "Epoch 9/15\n",
      "1060/1060 [==============================] - 8s 7ms/sample - loss: 0.1087 - acc: 0.9566 - val_loss: 0.2319 - val_acc: 0.9098\n",
      "Epoch 10/15\n",
      "1060/1060 [==============================] - 8s 7ms/sample - loss: 0.0410 - acc: 0.9858 - val_loss: 0.2663 - val_acc: 0.9023\n",
      "Epoch 11/15\n",
      "1060/1060 [==============================] - 8s 7ms/sample - loss: 0.0399 - acc: 0.9840 - val_loss: 0.2670 - val_acc: 0.9135\n",
      "Epoch 12/15\n",
      "1060/1060 [==============================] - 8s 7ms/sample - loss: 0.0129 - acc: 0.9972 - val_loss: 0.2451 - val_acc: 0.9361\n",
      "Epoch 13/15\n",
      "1060/1060 [==============================] - 8s 7ms/sample - loss: 0.0359 - acc: 0.9877 - val_loss: 0.3637 - val_acc: 0.8985\n",
      "Epoch 14/15\n",
      "1060/1060 [==============================] - 8s 7ms/sample - loss: 0.0595 - acc: 0.9821 - val_loss: 0.2352 - val_acc: 0.9135\n",
      "Epoch 15/15\n",
      "1060/1060 [==============================] - 8s 7ms/sample - loss: 0.0223 - acc: 0.9943 - val_loss: 0.3158 - val_acc: 0.8947\n"
     ]
    },
    {
     "data": {
      "text/plain": [
       "<tensorflow.python.keras.callbacks.History at 0x13b554470>"
      ]
     },
     "execution_count": 10,
     "metadata": {},
     "output_type": "execute_result"
    }
   ],
   "source": [
    "model.fit(X, target, epochs=epochs, batch_size=batch_size, validation_split=0.2)"
   ]
  },
  {
   "cell_type": "code",
   "execution_count": 11,
   "metadata": {},
   "outputs": [],
   "source": [
    "model.save('vehicleNet.pt')"
   ]
  },
  {
   "cell_type": "code",
   "execution_count": 12,
   "metadata": {},
   "outputs": [],
   "source": [
    "def prepare(filepath):\n",
    "    IMG_SIZE = 70  # \n",
    "    test_array = cv2.imread(filepath, cv2.IMREAD_GRAYSCALE)\n",
    "    test_array = cv2.resize(test_array, (IMG_SIZE, IMG_SIZE))\n",
    "    return test_array.reshape(-1, IMG_SIZE, IMG_SIZE, 1)\n"
   ]
  },
  {
   "cell_type": "code",
   "execution_count": 13,
   "metadata": {},
   "outputs": [
    {
     "name": "stdout",
     "output_type": "stream",
     "text": [
      "/Users/krishrana/Desktop/jkasv.png\n",
      "Car\n"
     ]
    }
   ],
   "source": [
    "test_path=input()\n",
    "test_image=prepare(test_path)\n",
    "pre=model.predict(test_image)\n",
    "y = np.argmax(pre, axis=-1)\n",
    "if (y==0):\n",
    "    print('Car')\n",
    "elif(y==1):\n",
    "    print('Auto')\n",
    "else:\n",
    "    print('Motorcycle')\n",
    "#print(test_image.shape)"
   ]
  },
  {
   "cell_type": "code",
   "execution_count": null,
   "metadata": {},
   "outputs": [],
   "source": []
  }
 ],
 "metadata": {
  "kernelspec": {
   "display_name": "Python 3",
   "language": "python",
   "name": "python3"
  },
  "language_info": {
   "codemirror_mode": {
    "name": "ipython",
    "version": 3
   },
   "file_extension": ".py",
   "mimetype": "text/x-python",
   "name": "python",
   "nbconvert_exporter": "python",
   "pygments_lexer": "ipython3",
   "version": "3.7.3"
  }
 },
 "nbformat": 4,
 "nbformat_minor": 2
}
